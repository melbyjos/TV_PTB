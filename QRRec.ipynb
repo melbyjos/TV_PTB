{
 "cells": [
  {
   "cell_type": "code",
   "execution_count": 1,
   "metadata": {},
   "outputs": [],
   "source": [
    "import numpy as np\n",
    "import scipy as sp\n",
    "from scipy import stats\n",
    "import time as time\n",
    "import matplotlib\n",
    "import matplotlib.pyplot as plt\n",
    "import math\n",
    "import cmath\n",
    "import gmpy2 as gp\n",
    "from gmpy2 import mpc\n",
    "\n",
    "#####################################################################################"
   ]
  },
  {
   "cell_type": "code",
   "execution_count": 10,
   "metadata": {},
   "outputs": [
    {
     "name": "stdout",
     "output_type": "stream",
     "text": [
      "[ 3  5  7  9 11 13 15 17 19 21 23 25 27 29 31 33 35 37 39 41 43 45 47 49\n",
      " 51 53 55 57 59 61 63 65 67 69 71 73 75 77 79 81 83 85 87 89]\n"
     ]
    }
   ],
   "source": [
    "#Here are some test arrays of level sets that will come in handy:\n",
    "test = np.array(range(3,91,2))\n",
    "print(test)\n",
    "\n",
    "test1 = np.array([3,5,7,9,11,13,15,17,19,23,29,35,41,51,61,71,81,91,101,111])\n",
    "\n",
    "#Chen-Yang Test set for the figure eight knot complement:\n",
    "CYtest = [11,13,15,17,19,21,23,25,31,41,51,61,71,81,91,101,111,201,301,401,501,701,1001]\n",
    "\n",
    "##################################################################################################"
   ]
  },
  {
   "cell_type": "code",
   "execution_count": 34,
   "metadata": {},
   "outputs": [],
   "source": [
    "def monodromyRL(word):\n",
    "    \"\"\"Returns monodromy of the bundle corresponding to the word 'RL...RL'\n",
    "\n",
    "    Args:\n",
    "        word (str): _string of 'RL' repeating\n",
    "\n",
    "    Returns:\n",
    "        arr: numpy array corresponding to the 2x2 matrix representing the monodromy of the bundle.\n",
    "    \"\"\"\n",
    "    R = np.array([[1,1],[0,1]])\n",
    "    L = np.array([[1,0],[1,1]])\n",
    "    mon = np.array([[1,0],[0,1]])\n",
    "    i = len(word)//2\n",
    "    while i > 0:\n",
    "        mon = mon.dot(np.dot(R,L))\n",
    "        i = i-1\n",
    "    return mon\n",
    "\n",
    "def sf(word):\n",
    "    return np.linalg.eig(monodromyRL(word))[0][0]"
   ]
  },
  {
   "cell_type": "code",
   "execution_count": 7,
   "metadata": {},
   "outputs": [],
   "source": [
    "#This function provides a list of the admissible colors for the given level set r:\n",
    "def colors(r):\n",
    "    \"\"\"Colors corresponding to SU(2)-quantum representations\n",
    "\n",
    "    Args:\n",
    "        r (int): integer >=3\n",
    "\n",
    "    Returns:\n",
    "        list: list of integers from 0 to (r-3)/2\n",
    "    \"\"\"\n",
    "    I = [i for i in range((r-3)//2+1)]\n",
    "    return I\n",
    "\n",
    "\n",
    "def A(r):\n",
    "    \"\"\"Primitive root of unity for which we are computing all of our invariants, as a function of\n",
    "    the level set r \n",
    "\n",
    "    Args:\n",
    "        r (int): integer >=3\n",
    "\n",
    "    Returns:\n",
    "        complex float: Complex root of unity\n",
    "    \"\"\"\n",
    "    B = cmath.exp(cmath.pi*1j/(r))\n",
    "    return B\n",
    "################################################################################################\n",
    "\n",
    "################################################################\n",
    "#Supporting functions for quantum integers and factorials\n",
    "################################################################\n",
    "\n",
    "def Q(n,A):\n",
    "    z = (-A)**(n) - (-A)**(-n)\n",
    "    return z.imag*1j\n",
    "\n",
    "def Qp(n,A):\n",
    "    z = (-A)**(n) + (-A)**(-n)\n",
    "    return z.real\n",
    "def f1(N,A):\n",
    "    if N==0:\n",
    "        return 1\n",
    "    elif N>0:\n",
    "        return np.prod([Q(i,A) for i in range(1,N+1)])\n",
    "    else: \n",
    "        return 0\n",
    "def f1p(N,A):\n",
    "    if N==0:\n",
    "        return 2\n",
    "    elif N>0:\n",
    "        return np.prod([Qp(i,A) for i in range(1,N+1)])\n",
    "    else: \n",
    "        return 0\n",
    "def f2(N,A):\n",
    "    if N==0:\n",
    "        return 1\n",
    "    else:\n",
    "        temp=1\n",
    "        for i in range(N,0,-2):\n",
    "            temp=temp*Q(i,A)\n",
    "            continue\n",
    "        return temp\n",
    "def mu(n,A):\n",
    "    return (-A)**(n*(n+2))\n",
    "def lamb(n,A):\n",
    "    return -Q(2*n+2,A)\n",
    "\n",
    "################################################################################################\n",
    "\n",
    "################################################################\n",
    "#Functions used to construct the representations for C_R and C_L\n",
    "################################################################\n",
    "def R(c,n,m,A):\n",
    "    x = f1(m,A)*f2(2*c+2*n+1,A)*f1p(2*c+n+1,A)\n",
    "    y = f1(n,A)*f2(2*c+2*m+1,A)*f1p(2*c+m+1,A)\n",
    "    return x/y\n",
    "\n",
    "def Mminus(N,n,m,A):\n",
    "    x = Q(m,A)*((-A)**(-2*N+2*m))\n",
    "    y = Q(n+1,A)\n",
    "    return x/y\n",
    "def Mplus(N,n,m,A):\n",
    "    x = ((-A)**(-2*N+2*m+2))*Q(-2*N+2*m+2,A)*Qp(-2*N+m+1,A)\n",
    "    y = Q(n+1,A)\n",
    "    return x/y\n",
    "def Mmid1(c,N,n,m,A):\n",
    "    x = (A-A**(-1))*(lamb(c+m,A))**(2)+A*(Q(m+1,A)**(2))*R(c,m+1,m,A)-A**(-1)*(Q(m,A)**2)*R(c,m,m-1,A)-Q(2,A)*lamb(c+n,A)\n",
    "    y = Q(2,A)*Q(n+1,A)\n",
    "    return x/y\n",
    "\n",
    "def Mmid(c,N,n,m,A):\n",
    "    x = (A-A**(-1))*(Qp(2*N-2*m-1,A))**(2)+A*(Q(m+1,A)**(2))*R(c,m+1,m,A)-A**(-1)*(Q(m,A)**2)*R(c,m,m-1,A)+Q(2,A)*Qp(2*N-2*n-1,A)\n",
    "    y = Q(2,A)*Q(n+1,A)\n",
    "    return x/y\n",
    "\n",
    "def makeM(N,c,n,A):\n",
    "    bigM = np.zeros(shape=(N,N),dtype=complex)\n",
    "    bigM[0,0] = Mmid(c,N,n,0,A)\n",
    "    bigM[0,1] = Mplus(N,n,0,A)\n",
    "    bigM[N-1,N-2] = Mminus(N,n,N-1,A)\n",
    "    bigM[N-1,N-1] = Mmid(c,N,n,N-1,A)\n",
    "    for m in range(1,N-1):\n",
    "        bigM[m,m] = Mmid(c,N,n,m,A)\n",
    "        bigM[m,m-1] = Mminus(N,n,m,A)\n",
    "        bigM[m,m+1] = Mplus(N,n,m,A)\n",
    "    return bigM\n",
    "\n",
    "################################################################################################\n",
    "\n",
    "################################################################\n",
    "#Build libraries for R and L representations\n",
    "################################################################\n",
    "\n",
    "def makeRepR(N,c,A):\n",
    "    S = np.zeros(shape=(N,N),dtype = complex)\n",
    "    S[0,0] = 1\n",
    "    for n in range(1,N):\n",
    "        M = makeM(N,c,n-1,A)\n",
    "        S[:,n] = M.dot(S[:,n-1])\n",
    "    return S\n",
    "\n",
    "def genRLn(n):\n",
    "    x = ''\n",
    "    for i in range(n):\n",
    "        x = x+ 'RL'\n",
    "    return x"
   ]
  },
  {
   "cell_type": "code",
   "execution_count": 11,
   "metadata": {
    "scrolled": true
   },
   "outputs": [
    {
     "name": "stdout",
     "output_type": "stream",
     "text": [
      "Time to build R Library: 133.515625 seconds\n",
      "Time to build L Library: 111.4375 seconds\n",
      "Time to compute QV Library: 0.03125 seconds\n",
      "{'RL': [[3, 0.0], [5, 2.6932471303224785], [7, 2.4540538901661475], [9, 2.471813475962565], [11, 2.4066064718040256], [13, 2.3775476430702693], [15, 2.3482597089093264], [17, 2.319069508960746], [19, 2.2995342041619997], [21, 2.282265410270453], [23, 2.26834340161997], [25, 2.2563395126909627], [27, 2.245758288636151], [29, 2.2365241931970345], [31, 2.228243278701593], [33, 2.220793492682338], [35, 2.214021154482635], [37, 2.20782193816543], [39, 2.202121985341774], [41, 2.196851943971879], [43, 2.1919605647990603], [45, 2.187403492874009], [47, 2.1831440157887556], [49, 2.1791513020766557], [51, 2.175398668168265], [53, 2.1718632806830684], [55, 2.1685252420180294], [57, 2.1653671843755506], [59, 2.1623738403580735], [61, 2.1595327121662264], [63, 2.1568370639812695], [65, 2.154486868316161], [67, 2.1523233121777507], [69, 2.1513026878916834], [71, 2.213889562574123], [73, 2.266224971698143], [75, 2.2363907537365146], [77, 2.7385556727739027], [79, 3.39272617782886], [81, 3.405477686855584], [83, 3.8635435899545767], [85, 4.089039021684506], [87, 4.551599863768597], [89, 5.167120046038195]]}\n"
     ]
    }
   ],
   "source": [
    "def libR(array):\n",
    "    lib = {}\n",
    "    #np.empty(dtype = object)\n",
    "    for r in array:\n",
    "        I = colors(r)\n",
    "        repsr = [makeRepR((r-1)//2-c,c,A(r)) for c in I]\n",
    "        lib[r] = repsr\n",
    "    return lib\n",
    "\n",
    "time_start = time.process_time()\n",
    "\n",
    "Rlib = libR(test)\n",
    "\n",
    "time_elapsed = (time.process_time() - time_start)\n",
    "print('Time to build R Library: %s seconds' % time_elapsed)\n",
    "\n",
    "#Once we have the R rep library, we can construct the corresponding library of L reps using these two functions:\n",
    "\n",
    "def makeRepL(N,r,c,A):\n",
    "    repR = Rlib[r][c]\n",
    "    #S = (b_{n,m})\n",
    "    S = np.linalg.inv(np.array([[repR[m,n]/R(c,n,m,A) for m in range(N)] for n in range(N)]))\n",
    "    return S\n",
    "\n",
    "def libL(array):\n",
    "    lib = {}\n",
    "    for r in array:\n",
    "        I = colors(r)\n",
    "        repsr = [makeRepL((r-1)//2-c,r,c,A(r)) for c in I]\n",
    "        lib[r] = repsr\n",
    "    return lib\n",
    "\n",
    "time_start = time.process_time()\n",
    "\n",
    "Llib = libL(test)\n",
    "\n",
    "time_elapsed = (time.process_time() - time_start)\n",
    "print('Time to build L Library: %s seconds' % time_elapsed)\n",
    "\n",
    "################################################################################################\n",
    "\n",
    "#Define representations of C_R and C_L:\n",
    "\n",
    "def genRep(r,c,string):\n",
    "    #r >= 3 is odd TV parameter\n",
    "    #c is color from list of colors, N = (r-1)/2 - c\n",
    "    #k is choice of primitive 2r root of unity \n",
    "    #string is the string of L's and R's \n",
    "    N = (r-1)//2-c\n",
    "    if 'R' in string:\n",
    "        repR = Rlib[r][c]\n",
    "    if 'L' in string:\n",
    "        repL = Llib[r][c]\n",
    "    rho = np.zeros(shape=(N,N), dtype=complex)\n",
    "    first = string[0]\n",
    "    if first == 'L':\n",
    "        rho = repL\n",
    "    else: \n",
    "        rho = repR\n",
    "    for char in string[1:]:\n",
    "        if char == 'L':\n",
    "            rho = rho.dot(repL)\n",
    "        else:\n",
    "            rho = rho.dot(repR)\n",
    "    return rho\n",
    "\n",
    "################################################################################################\n",
    "\n",
    "\n",
    "\n",
    "\n",
    "\n",
    "\n",
    "################################################################\n",
    "#Computing the Turaev-Viro\n",
    "################################################################\n",
    "\n",
    "def TV(r,string):\n",
    "    I = colors(r)\n",
    "    traces = [abs(np.trace(genRep(r,c,string)))**2 for c in I]\n",
    "    TV = sum(traces)\n",
    "    return TV\n",
    "\n",
    "#This function computes the logarithm of TV_r, as the Volume Conjecture requires\n",
    "def QV(r,string):\n",
    "    return ((2*np.pi)/(r-2))*np.log(TV(r,string))\n",
    "\n",
    "################################################################################################\n",
    "\n",
    "################################################################\n",
    "#Given a list of level sets (subset of the representations library created above) and a list of monodromies \n",
    "#(as strings in R,L), this function constructs a library of QV_r values keyed by the string representing the monodromy\n",
    "################################\n",
    "\n",
    "def QVLib(array,strings):\n",
    "    lib = {}\n",
    "    time_start = time.process_time()\n",
    "    for stg in strings:\n",
    "        QVallr = [[r,QV(r,stg)] for r in array]\n",
    "        lib[stg] = QVallr\n",
    "    time_elapsed = (time.process_time() - time_start)\n",
    "    print('Time to compute QV Library: %s seconds' % time_elapsed)\n",
    "    print(lib)\n",
    "\n",
    "\n",
    "################################################################################################\n",
    "\n",
    "QVLib(test,['RL'])"
   ]
  },
  {
   "cell_type": "code",
   "execution_count": 24,
   "metadata": {},
   "outputs": [],
   "source": [
    "def QVvals(array,string):\n",
    "    x = np.zeros(shape = (len(array),))\n",
    "    y = np.zeros(shape = (len(array),))\n",
    "    i=0\n",
    "    for r in array:\n",
    "        x[i] = r\n",
    "        y[i] = QV(r,string)\n",
    "        print((r,QV(r,string)))\n",
    "        i=i+1\n",
    "    return x,y\n",
    "\n",
    "def K(n):\n",
    "    return n\n",
    "\n",
    "def Zn(word):\n",
    "    n = len(word)//2\n",
    "    return QV(K(n), word)**(1/float(K(n)))\n",
    "\n",
    "def Z(word,r):\n",
    "    n = len(word)//2\n",
    "    val = QV(r, word)\n",
    "    return val**(1/float(n))\n",
    "\n",
    "def mfdsodd(arr):\n",
    "    m = []\n",
    "    for word in arr:\n",
    "        if len(word)//2 %2==1:\n",
    "            m.append(word)\n",
    "    return m"
   ]
  },
  {
   "cell_type": "code",
   "execution_count": 16,
   "metadata": {
    "scrolled": false
   },
   "outputs": [
    {
     "name": "stdout",
     "output_type": "stream",
     "text": [
      "(3, 0.0)\n",
      "(5, 2.6932471303224785)\n",
      "(7, 2.4540538901661475)\n",
      "(9, 2.471813475962565)\n",
      "(11, 2.4066064718040256)\n",
      "(13, 2.3775476430702693)\n",
      "(15, 2.3482597089093264)\n",
      "(17, 2.319069508960746)\n",
      "(19, 2.2995342041619997)\n",
      "(21, 2.282265410270453)\n",
      "(23, 2.26834340161997)\n",
      "(25, 2.2563395126909627)\n",
      "(27, 2.245758288636151)\n",
      "(29, 2.2365241931970345)\n",
      "(31, 2.228243278701593)\n",
      "(33, 2.220793492682338)\n",
      "(35, 2.214021154482635)\n",
      "(37, 2.20782193816543)\n",
      "(39, 2.202121985341774)\n",
      "(41, 2.196851943971879)\n",
      "(43, 2.1919605647990603)\n",
      "(45, 2.187403492874009)\n",
      "(47, 2.1831440157887556)\n",
      "(49, 2.1791513020766557)\n",
      "(51, 2.175398668168265)\n",
      "(53, 2.1718632806830684)\n",
      "(55, 2.1685252420180294)\n",
      "(57, 2.1653671843755506)\n",
      "(59, 2.1623738403580735)\n",
      "(61, 2.1595327121662264)\n",
      "(63, 2.1568370639812695)\n",
      "(65, 2.154486868316161)\n",
      "(67, 2.1523233121777507)\n",
      "(69, 2.1513026878916834)\n"
     ]
    },
    {
     "data": {
      "image/png": "[encoded data removed]",
      "text/plain": [
       "<Figure size 432x288 with 1 Axes>"
      ]
     },
     "metadata": {
      "needs_background": "light"
     },
     "output_type": "display_data"
    }
   ],
   "source": [
    "x,y = QVvals(test[test<71],'RL')\n",
    "vol = np.array([2.029883128 for i in range(len(x))])\n",
    "plt.plot(x,y)\n",
    "plt.plot(x,vol,'r--')\n",
    "plt.show()"
   ]
  },
  {
   "cell_type": "code",
   "execution_count": 27,
   "metadata": {},
   "outputs": [],
   "source": [
    "mfds = [genRLn(n) for n in range(1,50)]\n",
    "mfdslite = mfdsodd(mfds)"
   ]
  },
  {
   "cell_type": "code",
   "execution_count": 28,
   "metadata": {},
   "outputs": [
    {
     "name": "stdout",
     "output_type": "stream",
     "text": [
      "For r=3, slope = 0.0 and r_value = 0.0\n",
      "For r=5, slope = -1.0150610510858576e-17 and r_value = -1.2813518903939587e-16\n",
      "For r=7, slope = 1.2309549717574535 and r_value = 0.9999486566597173\n",
      "For r=9, slope = 1.2777010569154004 and r_value = 0.9999552262396726\n",
      "For r=11, slope = 1.4735887485176067 and r_value = 0.9999803910374014\n",
      "For r=13, slope = 1.5482675217544477 and r_value = 0.9999859999323398\n",
      "For r=15, slope = 1.6203374860761552 and r_value = 0.9999902250250935\n",
      "For r=17, slope = 1.6688827700942672 and r_value = 0.9999927203523252\n",
      "For r=19, slope = 1.708659642670897 and r_value = 0.9999943320191862\n",
      "For r=21, slope = 1.7399897918991152 and r_value = 0.9999954677300749\n",
      "For r=23, slope = 1.7658835528299193 and r_value = 0.9999962886978455\n",
      "For r=25, slope = 1.7874508708316275 and r_value = 0.9999969083865723\n",
      "For r=27, slope = 1.8057587457302935 and r_value = 0.9999973888697281\n",
      "For r=29, slope = 1.821474881143047 and r_value = 0.9999977674103635\n",
      "For r=31, slope = 1.8351221586378057 and r_value = 0.9999980718385378\n",
      "For r=33, slope = 1.8470829754321667 and r_value = 0.9999983198743332\n",
      "For r=35, slope = 1.8576536689765892 and r_value = 0.9999985245534438\n",
      "For r=37, slope = 1.8670639528593582 and r_value = 0.9999986952680461\n",
      "For r=39, slope = 1.875495736341484 and r_value = 0.9999988389390944\n",
      "For r=41, slope = 1.8830946315971229 and r_value = 0.9999989608803861\n",
      "For r=43, slope = 1.889978670428112 and r_value = 0.9999990651453298\n",
      "For r=45, slope = 1.89624452215384 and r_value = 0.9999991549073648\n",
      "For r=47, slope = 1.9019721319189216 and r_value = 0.999999232667804\n",
      "For r=49, slope = 1.9072281893903231 and r_value = 0.9999993004198239\n"
     ]
    },
    {
     "name": "stderr",
     "output_type": "stream",
     "text": [
      "C:\\Users\\mreclyde\\Anaconda3\\lib\\site-packages\\ipykernel_launcher.py:80: RuntimeWarning: overflow encountered in double_scalars\n"
     ]
    },
    {
     "name": "stdout",
     "output_type": "stream",
     "text": [
      "For r=51, slope = nan and r_value = nan\n",
      "For r=53, slope = nan and r_value = nan\n",
      "For r=55, slope = nan and r_value = nan\n",
      "For r=57, slope = nan and r_value = nan\n",
      "For r=59, slope = nan and r_value = nan\n",
      "For r=61, slope = nan and r_value = nan\n",
      "For r=63, slope = nan and r_value = nan\n",
      "For r=65, slope = nan and r_value = nan\n",
      "For r=67, slope = nan and r_value = nan\n",
      "For r=69, slope = nan and r_value = nan\n"
     ]
    },
    {
     "data": {
      "image/png": "[encoded data removed]",
      "text/plain": [
       "<Figure size 432x288 with 1 Axes>"
      ]
     },
     "metadata": {
      "needs_background": "light"
     },
     "output_type": "display_data"
    }
   ],
   "source": [
    "x = range(1,len(mfds)+1)\n",
    "for r in test[test <71]:\n",
    "    y = [QV(r,word) for word in mfds]\n",
    "    plt.plot(x,y)\n",
    "    slope, intercept, r_value, p_value, std_err = stats.linregress(x,y)\n",
    "    print(\"For r=%s, slope = %s and r_value = %s\" %(r,slope,r_value))\n",
    "plt.show()"
   ]
  },
  {
   "cell_type": "code",
   "execution_count": 37,
   "metadata": {},
   "outputs": [
    {
     "name": "stderr",
     "output_type": "stream",
     "text": [
      "C:\\Users\\mreclyde\\Anaconda3\\lib\\site-packages\\ipykernel_launcher.py:86: RuntimeWarning: divide by zero encountered in log\n",
      "C:\\Users\\mreclyde\\Anaconda3\\lib\\site-packages\\ipykernel_launcher.py:4: RuntimeWarning: divide by zero encountered in log\n",
      "  after removing the cwd from sys.path.\n"
     ]
    },
    {
     "name": "stdout",
     "output_type": "stream",
     "text": [
      "(1, inf)\n",
      "(3, 0.0)\n",
      "(5, 1.2751068188785486)\n",
      "(7, 1.3612448736570022)\n",
      "(9, 1.3122523513544229)\n",
      "(11, 1.288538199300282)\n",
      "(13, 1.2600277425686675)\n",
      "(15, 1.2372400875322633)\n",
      "(17, 1.2176563763713804)\n",
      "(19, 1.2011596570778114)\n",
      "(21, 1.187034410365687)\n",
      "(23, 1.1748526821425649)\n",
      "(25, 1.1642407837047464)\n",
      "(27, 1.1549188500161127)\n",
      "(29, 1.1466649331270002)\n",
      "(31, 1.1393048692490613)\n",
      "(33, 1.1326996496209363)\n",
      "(35, 1.1267374860059536)\n",
      "(37, 1.1213275017630748)\n",
      "(39, 1.1163951509630057)\n",
      "(41, 1.1118787352629247)\n",
      "(43, 1.107726771268142)\n",
      "(45, 1.103895969228688)\n",
      "(47, 1.1003496699967372)\n",
      "(49, 1.0970566239116852)\n"
     ]
    },
    {
     "data": {
      "image/png": "[encoded data removed]",
      "text/plain": [
       "<Figure size 432x288 with 1 Axes>"
      ]
     },
     "metadata": {
      "needs_background": "light"
     },
     "output_type": "display_data"
    },
    {
     "data": {
      "image/png": "[encoded data removed]",
      "text/plain": [
       "<Figure size 432x288 with 1 Axes>"
      ]
     },
     "metadata": {
      "needs_background": "light"
     },
     "output_type": "display_data"
    }
   ],
   "source": [
    "xmfdslite = [len(word)//2 for word in mfdslite]\n",
    "\n",
    "y = [Zn(word) for word in mfdslite]\n",
    "power = [np.log(y[i])/np.log(sf('RL')) for i in range(len(y))]\n",
    "\n",
    "for i in range(len(y)):\n",
    "    print((xmfdslite[i],y[i]))\n",
    "\n",
    "plt.plot(xmfdslite,y)\n",
    "plt.show()\n",
    "plt.close()\n",
    "\n",
    "plt.plot(xmfdslite, power)\n",
    "plt.show()"
   ]
  },
  {
   "cell_type": "code",
   "execution_count": 88,
   "metadata": {},
   "outputs": [],
   "source": [
    "def AllStrings(n, arr, i):  \n",
    "  \n",
    "    if i == n: \n",
    "        printTheArray(arr, n)  \n",
    "        return\n",
    "      \n",
    "    # First assign \"0\" at ith position  \n",
    "    # and try for all other permutations  \n",
    "    # for remaining positions  \n",
    "    arr[i] = 0\n",
    "    generateAllBinaryStrings(n, arr, i + 1)  \n",
    "  \n",
    "    # And then assign \"1\" at ith position  \n",
    "    # and try for all other permutations  \n",
    "    # for remaining positions  \n",
    "    arr[i] = 1\n",
    "    generateAllBinaryStrings(n, arr, i + 1)"
   ]
  }
 ],
 "metadata": {
  "kernelspec": {
   "display_name": "Python 3",
   "language": "python",
   "name": "python3"
  },
  "language_info": {
   "codemirror_mode": {
    "name": "ipython",
    "version": 3
   },
   "file_extension": ".py",
   "mimetype": "text/x-python",
   "name": "python",
   "nbconvert_exporter": "python",
   "pygments_lexer": "ipython3",
   "version": "3.7.4"
  }
 },
 "nbformat": 4,
 "nbformat_minor": 2
}
